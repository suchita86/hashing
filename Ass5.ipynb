{
 "cells": [
  {
   "cell_type": "code",
   "execution_count": null,
   "metadata": {},
   "outputs": [],
   "source": [
    "def linearS(stud,key):#fun definition\n",
    "    for i in range(len(stud)):\n",
    "        if key==stud[i]:\n",
    "            return i\n",
    "    return -1"
   ]
  },
  {
   "cell_type": "code",
   "execution_count": null,
   "metadata": {},
   "outputs": [],
   "source": [
    "stud=[]\n",
    "while True:\n",
    "    rno=int(input(\"Enter student roll number\"))\n",
    "    if rno==0:\n",
    "        break\n",
    "    else:\n",
    "        stud.append(rno)\n",
    "    \n",
    "    \n",
    "key=int(input(\"enter Key want to search\"))\n",
    "pos=linearS(stud,key)#fun call\n",
    "if pos==-1:\n",
    "    print(\"{} Element not found at location {}\".format(key,i))\n",
    "else:\n",
    "    print(\"Elementfound\",key)"
   ]
  },
  {
   "cell_type": "code",
   "execution_count": null,
   "metadata": {},
   "outputs": [],
   "source": []
  }
 ],
 "metadata": {
  "kernelspec": {
   "display_name": "Python 3",
   "language": "python",
   "name": "python3"
  },
  "language_info": {
   "codemirror_mode": {
    "name": "ipython",
    "version": 3
   },
   "file_extension": ".py",
   "mimetype": "text/x-python",
   "name": "python",
   "nbconvert_exporter": "python",
   "pygments_lexer": "ipython3",
   "version": "3.7.6"
  }
 },
 "nbformat": 4,
 "nbformat_minor": 4
}
